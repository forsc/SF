{
 "metadata": {
  "language_info": {
   "codemirror_mode": {
    "name": "ipython",
    "version": 3
   },
   "file_extension": ".py",
   "mimetype": "text/x-python",
   "name": "python",
   "nbconvert_exporter": "python",
   "pygments_lexer": "ipython3",
   "version": "3.7.4"
  },
  "orig_nbformat": 4,
  "kernelspec": {
   "name": "python3",
   "display_name": "Python 3.7.4  ('.venv': venv)"
  },
  "interpreter": {
   "hash": "7f29005e95414de20ef34802db5f788dacb54617d7fe92567c3807e88056f1ac"
  }
 },
 "nbformat": 4,
 "nbformat_minor": 2,
 "cells": [
  {
   "cell_type": "code",
   "execution_count": 5,
   "metadata": {},
   "outputs": [],
   "source": [
    "import pandas as pd"
   ]
  },
  {
   "cell_type": "code",
   "execution_count": 6,
   "metadata": {},
   "outputs": [],
   "source": [
    "spam = pd.read_csv(\"spam.csv\")"
   ]
  },
  {
   "cell_type": "code",
   "execution_count": 8,
   "metadata": {},
   "outputs": [
    {
     "output_type": "execute_result",
     "data": {
      "text/plain": [
       "     v1                                                 v2\n",
       "0   ham  Go until jurong point, crazy.. Available only ...\n",
       "1   ham                      Ok lar... Joking wif u oni...\n",
       "2  spam  Free entry in 2 a wkly comp to win FA Cup fina...\n",
       "3   ham  U dun say so early hor... U c already then say...\n",
       "4   ham  Nah I don't think he goes to usf, he lives aro..."
      ],
      "text/html": "<div>\n<style scoped>\n    .dataframe tbody tr th:only-of-type {\n        vertical-align: middle;\n    }\n\n    .dataframe tbody tr th {\n        vertical-align: top;\n    }\n\n    .dataframe thead th {\n        text-align: right;\n    }\n</style>\n<table border=\"1\" class=\"dataframe\">\n  <thead>\n    <tr style=\"text-align: right;\">\n      <th></th>\n      <th>v1</th>\n      <th>v2</th>\n    </tr>\n  </thead>\n  <tbody>\n    <tr>\n      <th>0</th>\n      <td>ham</td>\n      <td>Go until jurong point, crazy.. Available only ...</td>\n    </tr>\n    <tr>\n      <th>1</th>\n      <td>ham</td>\n      <td>Ok lar... Joking wif u oni...</td>\n    </tr>\n    <tr>\n      <th>2</th>\n      <td>spam</td>\n      <td>Free entry in 2 a wkly comp to win FA Cup fina...</td>\n    </tr>\n    <tr>\n      <th>3</th>\n      <td>ham</td>\n      <td>U dun say so early hor... U c already then say...</td>\n    </tr>\n    <tr>\n      <th>4</th>\n      <td>ham</td>\n      <td>Nah I don't think he goes to usf, he lives aro...</td>\n    </tr>\n  </tbody>\n</table>\n</div>"
     },
     "metadata": {},
     "execution_count": 8
    }
   ],
   "source": [
    "spam.head()"
   ]
  },
  {
   "cell_type": "code",
   "execution_count": 10,
   "metadata": {},
   "outputs": [],
   "source": [
    "spam.columns = ['label','text']"
   ]
  },
  {
   "cell_type": "code",
   "execution_count": 11,
   "metadata": {},
   "outputs": [
    {
     "output_type": "execute_result",
     "data": {
      "text/plain": [
       "  label                                               text\n",
       "0   ham  Go until jurong point, crazy.. Available only ...\n",
       "1   ham                      Ok lar... Joking wif u oni...\n",
       "2  spam  Free entry in 2 a wkly comp to win FA Cup fina...\n",
       "3   ham  U dun say so early hor... U c already then say...\n",
       "4   ham  Nah I don't think he goes to usf, he lives aro..."
      ],
      "text/html": "<div>\n<style scoped>\n    .dataframe tbody tr th:only-of-type {\n        vertical-align: middle;\n    }\n\n    .dataframe tbody tr th {\n        vertical-align: top;\n    }\n\n    .dataframe thead th {\n        text-align: right;\n    }\n</style>\n<table border=\"1\" class=\"dataframe\">\n  <thead>\n    <tr style=\"text-align: right;\">\n      <th></th>\n      <th>label</th>\n      <th>text</th>\n    </tr>\n  </thead>\n  <tbody>\n    <tr>\n      <th>0</th>\n      <td>ham</td>\n      <td>Go until jurong point, crazy.. Available only ...</td>\n    </tr>\n    <tr>\n      <th>1</th>\n      <td>ham</td>\n      <td>Ok lar... Joking wif u oni...</td>\n    </tr>\n    <tr>\n      <th>2</th>\n      <td>spam</td>\n      <td>Free entry in 2 a wkly comp to win FA Cup fina...</td>\n    </tr>\n    <tr>\n      <th>3</th>\n      <td>ham</td>\n      <td>U dun say so early hor... U c already then say...</td>\n    </tr>\n    <tr>\n      <th>4</th>\n      <td>ham</td>\n      <td>Nah I don't think he goes to usf, he lives aro...</td>\n    </tr>\n  </tbody>\n</table>\n</div>"
     },
     "metadata": {},
     "execution_count": 11
    }
   ],
   "source": [
    "spam.head()\n"
   ]
  },
  {
   "cell_type": "code",
   "execution_count": 17,
   "metadata": {},
   "outputs": [],
   "source": [
    "import spacy\n",
    "\n",
    "# Create an empty model\n",
    "nlp = spacy.blank(\"en\")"
   ]
  },
  {
   "cell_type": "code",
   "execution_count": 18,
   "metadata": {},
   "outputs": [
    {
     "output_type": "stream",
     "name": "stdout",
     "text": [
      "{'@architectures': 'spacy.TextCatEnsemble.v2', 'linear_model': {'@architectures': 'spacy.TextCatBOW.v1', 'exclusive_classes': True, 'ngram_size': 1, 'no_output_layer': False}, 'tok2vec': {'@architectures': 'spacy.Tok2Vec.v2', 'embed': {'@architectures': 'spacy.MultiHashEmbed.v2', 'width': 64, 'rows': [2000, 2000, 1000, 1000, 1000, 1000], 'attrs': ['ORTH', 'LOWER', 'PREFIX', 'SUFFIX', 'SHAPE', 'ID'], 'include_static_vectors': False}, 'encode': {'@architectures': 'spacy.MaxoutWindowEncoder.v2', 'width': 64, 'window_size': 1, 'maxout_pieces': 3, 'depth': 2}}}\n"
     ]
    }
   ],
   "source": [
    "from spacy.pipeline.textcat import DEFAULT_SINGLE_TEXTCAT_MODEL\n",
    "print(DEFAULT_SINGLE_TEXTCAT_MODEL)"
   ]
  },
  {
   "cell_type": "code",
   "execution_count": 19,
   "metadata": {},
   "outputs": [
    {
     "output_type": "stream",
     "name": "stdout",
     "text": [
      "{'labels': [], 'threshold': 0.5, 'positive_label': None}\n"
     ]
    }
   ],
   "source": [
    "config={\"model\":{\"@architectures\" : \"spacy.TextCatBOW.v1\",\n",
    "\"exclusive_classes\" : True,\n",
    "\"ngram_size\" : 1,\n",
    "\"no_output_layer\" :False},}\n",
    "textcat = nlp.add_pipe(\"textcat\",config=config)\n",
    "\n",
    "# textcat = nlp.add_pipe(\"textcat\")\n",
    "print(textcat.cfg)"
   ]
  },
  {
   "cell_type": "code",
   "execution_count": 20,
   "metadata": {},
   "outputs": [
    {
     "output_type": "execute_result",
     "data": {
      "text/plain": [
       "1"
      ]
     },
     "metadata": {},
     "execution_count": 20
    }
   ],
   "source": [
    "textcat.add_label(\"ham\")\n",
    "textcat.add_label(\"spam\")"
   ]
  },
  {
   "cell_type": "code",
   "execution_count": 22,
   "metadata": {},
   "outputs": [],
   "source": [
    "\n",
    "train_texts = spam['text'].values\n",
    "train_labels = [{'cats': {'ham': label == 'ham',\n",
    "                          'spam': label == 'spam'}} \n",
    "                for label in spam['label']]\n",
    "#print(train_labels)"
   ]
  },
  {
   "cell_type": "code",
   "execution_count": 23,
   "metadata": {},
   "outputs": [
    {
     "output_type": "execute_result",
     "data": {
      "text/plain": [
       "[('Go until jurong point, crazy.. Available only in bugis n great world la e buffet... Cine there got amore wat...',\n",
       "  {'cats': {'ham': True, 'spam': False}}),\n",
       " ('Ok lar... Joking wif u oni...', {'cats': {'ham': True, 'spam': False}}),\n",
       " (\"Free entry in 2 a wkly comp to win FA Cup final tkts 21st May 2005. Text FA to 87121 to receive entry question(std txt rate)T&C's apply 08452810075over18's\",\n",
       "  {'cats': {'ham': False, 'spam': True}})]"
      ]
     },
     "metadata": {},
     "execution_count": 23
    }
   ],
   "source": [
    "\n",
    "train_data = list(zip(train_texts, train_labels))\n",
    "train_data[:3]"
   ]
  },
  {
   "cell_type": "code",
   "execution_count": 24,
   "metadata": {},
   "outputs": [
    {
     "output_type": "stream",
     "name": "stdout",
     "text": [
      "{'textcat': 1.6104520383919407e-08}\n",
      "{'textcat': 3.130481118773787e-08}\n",
      "{'textcat': 4.5658095082501404e-08}\n",
      "{'textcat': 5.922299806115916e-08}\n",
      "{'textcat': 7.205672325483192e-08}\n",
      "{'textcat': 8.421390340629387e-08}\n",
      "{'textcat': 9.574599069139822e-08}\n",
      "{'textcat': 1.0670087746689205e-07}\n",
      "{'textcat': 1.1712271152930498e-07}\n",
      "{'textcat': 1.2705185614692027e-07}\n",
      "{'textcat': 1.365249859830442e-07}\n",
      "{'textcat': 1.4557529404157776e-07}\n",
      "{'textcat': 1.5423277321957585e-07}\n",
      "{'textcat': 1.625245351632998e-07}\n",
      "{'textcat': 1.7047513267698378e-07}\n",
      "{'textcat': 1.781068688089249e-07}\n",
      "{'textcat': 1.8544007973630983e-07}\n",
      "{'textcat': 1.9249338167881547e-07}\n",
      "{'textcat': 1.9928388583778656e-07}\n",
      "{'textcat': 2.0582737825236563e-07}\n",
      "{'textcat': 2.1213847301027045e-07}\n",
      "{'textcat': 2.1823073881321875e-07}\n",
      "{'textcat': 2.2411680244971421e-07}\n",
      "{'textcat': 2.2980843450426391e-07}\n",
      "{'textcat': 2.3531662174391954e-07}\n",
      "{'textcat': 2.4065162440578547e-07}\n",
      "{'textcat': 2.4582302904363473e-07}\n",
      "{'textcat': 2.5083979116047317e-07}\n",
      "{'textcat': 2.5571027384430067e-07}\n",
      "{'textcat': 2.604422841834264e-07}\n",
      "{'textcat': 2.6504310657315955e-07}\n",
      "{'textcat': 2.6951953424614317e-07}\n",
      "{'textcat': 2.738778999145097e-07}\n",
      "{'textcat': 2.781241046356797e-07}\n",
      "{'textcat': 2.822636466781603e-07}\n",
      "{'textcat': 2.8630164861098706e-07}\n",
      "{'textcat': 2.9024288483725513e-07}\n",
      "{'textcat': 2.940918055749364e-07}\n",
      "{'textcat': 2.978525621699646e-07}\n",
      "{'textcat': 3.01529030188874e-07}\n",
      "{'textcat': 3.0512483006894797e-07}\n",
      "{'textcat': 3.08643347768367e-07}\n",
      "{'textcat': 3.120877536400002e-07}\n",
      "{'textcat': 3.1546101930679527e-07}\n",
      "{'textcat': 3.187659343151239e-07}\n",
      "{'textcat': 3.2200512056768105e-07}\n",
      "{'textcat': 3.2518104542411663e-07}\n",
      "{'textcat': 3.2829603435757804e-07}\n",
      "{'textcat': 3.3135228183489573e-07}\n",
      "{'textcat': 3.343518613085905e-07}\n",
      "{'textcat': 3.372967352088807e-07}\n",
      "{'textcat': 3.4018876227115413e-07}\n",
      "{'textcat': 3.430297044193509e-07}\n",
      "{'textcat': 3.4582123542570287e-07}\n",
      "{'textcat': 3.485649462398044e-07}\n",
      "{'textcat': 3.512623496515488e-07}\n",
      "{'textcat': 3.5391488695246665e-07}\n",
      "{'textcat': 3.56523931710484e-07}\n",
      "{'textcat': 3.590907942108146e-07}\n",
      "{'textcat': 3.6161672456458405e-07}\n",
      "{'textcat': 3.6410291803790074e-07}\n",
      "{'textcat': 3.665505166061678e-07}\n",
      "{'textcat': 3.689606131729306e-07}\n",
      "{'textcat': 3.7133425356827843e-07}\n",
      "{'textcat': 3.7367243943542405e-07}\n",
      "{'textcat': 3.759761306731946e-07}\n",
      "{'textcat': 3.782462483226112e-07}\n",
      "{'textcat': 3.804836752330232e-07}\n",
      "{'textcat': 3.8268925961482125e-07}\n",
      "{'textcat': 3.848638157055717e-07}\n",
      "{'textcat': 3.870081262125069e-07}\n",
      "{'textcat': 3.8912294342274834e-07}\n",
      "{'textcat': 3.9120899120170805e-07}\n",
      "{'textcat': 3.932669665474009e-07}\n",
      "{'textcat': 3.9529754003453377e-07}\n",
      "{'textcat': 3.973013582569962e-07}\n",
      "{'textcat': 3.992790442719496e-07}\n",
      "{'textcat': 4.012311991541395e-07}\n",
      "{'textcat': 4.031584026620294e-07}\n",
      "{'textcat': 4.0506121457006827e-07}\n",
      "{'textcat': 4.069401755568691e-07}\n",
      "{'textcat': 4.0879580787134273e-07}\n",
      "{'textcat': 4.106286166649653e-07}\n",
      "{'textcat': 4.1243909054689e-07}\n",
      "{'textcat': 4.1422770202803605e-07}\n",
      "{'textcat': 4.1599490863131194e-07}\n",
      "{'textcat': 4.177411536687714e-07}\n",
      "{'textcat': 4.1946686646365805e-07}\n",
      "{'textcat': 4.211724631275615e-07}\n",
      "{'textcat': 4.2285834700450664e-07}\n",
      "{'textcat': 4.245249095591319e-07}\n",
      "{'textcat': 4.2617253070975636e-07}\n",
      "{'textcat': 4.2780157905042415e-07}\n",
      "{'textcat': 4.2941241262806074e-07}\n",
      "{'textcat': 4.31005379386562e-07}\n",
      "{'textcat': 4.325808171667944e-07}\n",
      "{'textcat': 4.341390548168178e-07}\n",
      "{'textcat': 4.3568041163677407e-07}\n",
      "{'textcat': 4.372051984891101e-07}\n",
      "{'textcat': 4.387137175765332e-07}\n",
      "{'textcat': 4.4020626355223413e-07}\n",
      "{'textcat': 4.416831226317086e-07}\n",
      "{'textcat': 4.4314457414706965e-07}\n",
      "{'textcat': 4.4459088976989136e-07}\n",
      "{'textcat': 4.4602233417734283e-07}\n",
      "{'textcat': 4.474391658293442e-07}\n",
      "{'textcat': 4.488416361914105e-07}\n",
      "{'textcat': 4.502299906228302e-07}\n",
      "{'textcat': 4.5160446859870973e-07}\n",
      "{'textcat': 4.5296530359895115e-07}\n",
      "{'textcat': 4.543127234413191e-07}\n",
      "{'textcat': 4.5564695050348547e-07}\n",
      "{'textcat': 4.569682019450738e-07}\n",
      "{'textcat': 4.5827668981868186e-07}\n",
      "{'textcat': 4.595726210698814e-07}\n",
      "{'textcat': 4.608561979813075e-07}\n",
      "{'textcat': 4.6212761817265857e-07}\n",
      "{'textcat': 4.633870749337632e-07}\n",
      "{'textcat': 4.6463475700253554e-07}\n",
      "{'textcat': 4.658708488980423e-07}\n",
      "{'textcat': 4.670955311425473e-07}\n",
      "{'textcat': 4.6830898026151146e-07}\n",
      "{'textcat': 4.695113690056374e-07}\n",
      "{'textcat': 4.7070286612882484e-07}\n",
      "{'textcat': 4.7188363705430447e-07}\n",
      "{'textcat': 4.73053843541571e-07}\n",
      "{'textcat': 4.742136437974054e-07}\n",
      "{'textcat': 4.753631929199642e-07}\n",
      "{'textcat': 4.765026426767349e-07}\n",
      "{'textcat': 4.776321417265805e-07}\n",
      "{'textcat': 4.787518355087172e-07}\n",
      "{'textcat': 4.798618667978261e-07}\n",
      "{'textcat': 4.809623749268965e-07}\n",
      "{'textcat': 4.820534970084722e-07}\n",
      "{'textcat': 4.831353669354499e-07}\n",
      "{'textcat': 4.84208116269258e-07}\n",
      "{'textcat': 4.85271873684745e-07}\n",
      "{'textcat': 4.863267655252912e-07}\n",
      "{'textcat': 4.873729154697415e-07}\n",
      "{'textcat': 4.884104448654725e-07}\n",
      "{'textcat': 4.894394727283924e-07}\n",
      "{'textcat': 4.904601156319188e-07}\n",
      "{'textcat': 4.914724880400456e-07}\n",
      "{'textcat': 4.924767020852983e-07}\n",
      "{'textcat': 4.934728679018008e-07}\n",
      "{'textcat': 4.944610934032312e-07}\n",
      "{'textcat': 4.95441484504866e-07}\n",
      "{'textcat': 4.964141452346027e-07}\n",
      "{'textcat': 4.973791773998926e-07}\n",
      "{'textcat': 4.983366811428525e-07}\n",
      "{'textcat': 4.992867546071977e-07}\n",
      "{'textcat': 5.002294942713092e-07}\n",
      "{'textcat': 5.011649947261887e-07}\n",
      "{'textcat': 5.020933486199475e-07}\n",
      "{'textcat': 5.030146471574071e-07}\n",
      "{'textcat': 5.039289798780544e-07}\n",
      "{'textcat': 5.048364344339973e-07}\n",
      "{'textcat': 5.057370971450759e-07}\n",
      "{'textcat': 5.066310527213069e-07}\n",
      "{'textcat': 5.075183842073727e-07}\n",
      "{'textcat': 5.083991732046655e-07}\n",
      "{'textcat': 5.092734998157766e-07}\n",
      "{'textcat': 5.101414427555184e-07}\n",
      "{'textcat': 5.110030792954134e-07}\n",
      "{'textcat': 5.118584853192054e-07}\n",
      "{'textcat': 5.127077353783704e-07}\n",
      "{'textcat': 5.135509025810947e-07}\n",
      "{'textcat': 5.143880589253413e-07}\n",
      "{'textcat': 5.152192749102724e-07}\n",
      "{'textcat': 5.160446198693158e-07}\n",
      "{'textcat': 5.168641620256764e-07}\n",
      "{'textcat': 5.176779680482468e-07}\n",
      "{'textcat': 5.184861037732524e-07}\n",
      "{'textcat': 5.192886337601621e-07}\n",
      "{'textcat': 5.200856212361771e-07}\n",
      "{'textcat': 5.208771285958314e-07}\n",
      "{'textcat': 5.216632168458801e-07}\n",
      "{'textcat': 5.224439461604113e-07}\n",
      "{'textcat': 5.232193754367565e-07}\n",
      "{'textcat': 5.239895625730462e-07}\n",
      "{'textcat': 5.247545644682106e-07}\n",
      "{'textcat': 5.255144370219789e-07}\n",
      "{'textcat': 5.262692350238574e-07}\n",
      "{'textcat': 5.27019012430685e-07}\n",
      "{'textcat': 5.277638220890779e-07}\n",
      "{'textcat': 5.285037159574735e-07}\n",
      "{'textcat': 5.292387452171532e-07}\n",
      "{'textcat': 5.299689598836643e-07}\n",
      "{'textcat': 5.306944091398869e-07}\n",
      "{'textcat': 5.314151413360335e-07}\n",
      "{'textcat': 5.321312039896497e-07}\n",
      "{'textcat': 5.328426436745914e-07}\n",
      "{'textcat': 5.335495059655138e-07}\n",
      "{'textcat': 5.342518360484938e-07}\n",
      "{'textcat': 5.349496779438745e-07}\n",
      "{'textcat': 5.356430750058649e-07}\n",
      "{'textcat': 5.363320698670293e-07}\n",
      "{'textcat': 5.370167043272644e-07}\n",
      "{'textcat': 5.376970194648223e-07}\n",
      "{'textcat': 5.383730556363098e-07}\n",
      "{'textcat': 5.390448524766889e-07}\n",
      "{'textcat': 5.397124489547878e-07}\n",
      "{'textcat': 5.403758833733008e-07}\n",
      "{'textcat': 5.410351934242996e-07}\n",
      "{'textcat': 5.416904160226998e-07}\n",
      "{'textcat': 5.42341587694839e-07}\n",
      "{'textcat': 5.429887443564319e-07}\n",
      "{'textcat': 5.436319212015484e-07}\n",
      "{'textcat': 5.44271152924658e-07}\n",
      "{'textcat': 5.449064738871634e-07}\n",
      "{'textcat': 5.455379177843334e-07}\n",
      "{'textcat': 5.461655179228586e-07}\n",
      "{'textcat': 5.467893071653407e-07}\n",
      "{'textcat': 5.474093178747808e-07}\n",
      "{'textcat': 5.480255821366242e-07}\n",
      "{'textcat': 5.486381316477384e-07}\n",
      "{'textcat': 5.492469977719239e-07}\n",
      "{'textcat': 5.49852211539914e-07}\n",
      "{'textcat': 5.504538035938644e-07}\n",
      "{'textcat': 5.510518045204194e-07}\n",
      "{'textcat': 5.516462444066228e-07}\n",
      "{'textcat': 5.522371533950299e-07}\n",
      "{'textcat': 5.528245611841065e-07}\n",
      "{'textcat': 5.534084974168074e-07}\n",
      "{'textcat': 5.539889915695539e-07}\n",
      "{'textcat': 5.545660728967228e-07}\n",
      "{'textcat': 5.551397705416683e-07}\n",
      "{'textcat': 5.557101135367226e-07}\n",
      "{'textcat': 5.562771307476844e-07}\n",
      "{'textcat': 5.56840850984841e-07}\n",
      "{'textcat': 5.574013028364355e-07}\n",
      "{'textcat': 5.579585149462218e-07}\n",
      "{'textcat': 5.585125157914206e-07}\n",
      "{'textcat': 5.590633336827189e-07}\n",
      "{'textcat': 5.596109968197815e-07}\n",
      "{'textcat': 5.601555334022734e-07}\n",
      "{'textcat': 5.606969714078147e-07}\n",
      "{'textcat': 5.612353388140257e-07}\n",
      "{'textcat': 5.617706633764818e-07}\n",
      "{'textcat': 5.623029727952478e-07}\n",
      "{'textcat': 5.628322946038544e-07}\n",
      "{'textcat': 5.633586562803217e-07}\n",
      "{'textcat': 5.638820849140913e-07}\n",
      "{'textcat': 5.644026077611386e-07}\n",
      "{'textcat': 5.649202517443719e-07}\n",
      "{'textcat': 5.654350436756772e-07}\n",
      "{'textcat': 5.659470102559183e-07}\n",
      "{'textcat': 5.664561779639143e-07}\n",
      "{'textcat': 5.66962573111951e-07}\n",
      "{'textcat': 5.674662217902693e-07}\n",
      "{'textcat': 5.679671499780881e-07}\n",
      "{'textcat': 5.684653833770703e-07}\n",
      "{'textcat': 5.689609476333679e-07}\n",
      "{'textcat': 5.694538680600658e-07}\n",
      "{'textcat': 5.699441698592267e-07}\n",
      "{'textcat': 5.704318778998463e-07}\n",
      "{'textcat': 5.70917016939898e-07}\n",
      "{'textcat': 5.713996114597997e-07}\n",
      "{'textcat': 5.718796857179242e-07}\n",
      "{'textcat': 5.723572636950891e-07}\n",
      "{'textcat': 5.728323692055781e-07}\n",
      "{'textcat': 5.733050257861194e-07}\n",
      "{'textcat': 5.737752566403742e-07}\n",
      "{'textcat': 5.742430848054703e-07}\n",
      "{'textcat': 5.74708533013224e-07}\n",
      "{'textcat': 5.751716236623849e-07}\n",
      "{'textcat': 5.756323789019024e-07}\n",
      "{'textcat': 5.760908205754145e-07}\n",
      "{'textcat': 5.765469703322701e-07}\n",
      "{'textcat': 5.770008494332401e-07}\n",
      "{'textcat': 5.774524788892954e-07}\n",
      "{'textcat': 5.779018794060953e-07}\n",
      "{'textcat': 5.783490713839878e-07}\n",
      "{'textcat': 5.787940749180098e-07}\n",
      "{'textcat': 5.792369098811534e-07}\n",
      "{'textcat': 5.79677595730077e-07}\n",
      "{'textcat': 5.801161517271503e-07}\n",
      "{'textcat': 5.805525968849423e-07}\n",
      "{'textcat': 5.809869497996889e-07}\n",
      "{'textcat': 5.814192289010922e-07}\n"
     ]
    }
   ],
   "source": [
    "import random\n",
    "from spacy.util import minibatch\n",
    "# V3\n",
    "from spacy.tokens import Doc\n",
    "from spacy.training import Example\n",
    "# --------\n",
    "\n",
    "\n",
    "spacy.util.fix_random_seed(1)\n",
    "nlp.begin_training()\n",
    "optimizer = nlp.initialize()\n",
    "losses={}\n",
    "\n",
    "for epoch in range(10):\n",
    "    random.shuffle(train_data)\n",
    "    # Create the batch generator with batch size = 8\n",
    "    batches = minibatch(train_data, size=200)\n",
    "    # Iterate through minibatches\n",
    "    for batch in batches:\n",
    "        # Each batch is a list of (text, label) but we need to\n",
    "        # send separate lists for texts and labels to update().\n",
    "        # This is a quick way to split a list of tuples into lists\n",
    "        # v2\n",
    "        # texts, labels = zip(*batch)\n",
    "        # nlp.update(texts, labels, sgd=optimizer)\n",
    "        # V3-------------------------------------\n",
    "        examples = [Example.from_dict(nlp(text), cats) for text, cats in train_data]\n",
    "        nlp.update(examples, sgd=optimizer, losses=losses)\n",
    "        print(losses)\n",
    "\n",
    "# v3 -----------------------------\n",
    "# Training data for text categorization\n",
    "# doc = nlp(\"I'm pretty happy about that!\")\n",
    "# gold_dict = {\"cats\": {\"POSITIVE\": 1.0, \"NEGATIVE\": 0.0}}\n",
    "# example = Example.from_dict(doc, gold_dict)"
   ]
  },
  {
   "cell_type": "code",
   "execution_count": 25,
   "metadata": {},
   "outputs": [
    {
     "output_type": "stream",
     "name": "stdout",
     "text": [
      "[[0.99220604 0.00779398]\n [0.28505814 0.71494186]]\n"
     ]
    }
   ],
   "source": [
    "\n",
    "texts = [\"Are you ready for the tea party????? It's gonna be wild\",\n",
    "         \"URGENT Reply to this message for GUARANTEED FREE TEA\" ]\n",
    "docs = [nlp.tokenizer(text) for text in texts]\n",
    "    \n",
    "# Use textcat to get the scores for each doc\n",
    "textcat = nlp.get_pipe('textcat')\n",
    "scores = textcat.predict(docs)\n",
    "\n",
    "print(scores)"
   ]
  },
  {
   "cell_type": "code",
   "execution_count": null,
   "metadata": {},
   "outputs": [],
   "source": []
  }
 ]
}